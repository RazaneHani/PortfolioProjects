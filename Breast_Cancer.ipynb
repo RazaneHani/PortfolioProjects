{
 "cells": [
  {
   "cell_type": "code",
   "execution_count": 1,
   "id": "2e4f92f9",
   "metadata": {},
   "outputs": [],
   "source": [
    "#Import libraries\n",
    "\n",
    "import matplotlib.pyplot as plt\n",
    "import numpy as np\n",
    "from sklearn.model_selection import train_test_split \n",
    "import pandas as pd\n",
    "from sklearn.impute import SimpleImputer"
   ]
  },
  {
   "cell_type": "code",
   "execution_count": 2,
   "id": "da670526",
   "metadata": {},
   "outputs": [],
   "source": [
    "# Load the breast-cancer-wisconsin dataset\n",
    "\n",
    "url=\"https://archive.ics.uci.edu/ml/machine-learning-databases/breast-cancer-wisconsin/breast-cancer-wisconsin.data\"\n",
    "missing_values=[\"?\"]\n",
    "df=pd.read_csv(url,header=None,na_values=missing_values)\n",
    "columns=[\"id\", \"ClumpThickness\", \"Uniformity_of_Cell_Size\", \"Uniformity_of_Cell_Shape\", \"Marginal_Adhesion\" \n",
    "         ,\"Single_Epithelial_Cell_Size\" ,\"Bare_Nuclei\" ,\"Bland_Chromatin\" ,\"Normal_Nucleoli\", \"Mitoses\",\"Class\"]\n",
    "df.columns=columns"
   ]
  },
  {
   "cell_type": "code",
   "execution_count": 3,
   "id": "de301adb",
   "metadata": {
    "scrolled": true
   },
   "outputs": [
    {
     "name": "stdout",
     "output_type": "stream",
     "text": [
      "<class 'pandas.core.frame.DataFrame'>\n",
      "RangeIndex: 699 entries, 0 to 698\n",
      "Data columns (total 11 columns):\n",
      " #   Column                       Non-Null Count  Dtype  \n",
      "---  ------                       --------------  -----  \n",
      " 0   id                           699 non-null    int64  \n",
      " 1   ClumpThickness               699 non-null    int64  \n",
      " 2   Uniformity_of_Cell_Size      699 non-null    int64  \n",
      " 3   Uniformity_of_Cell_Shape     699 non-null    int64  \n",
      " 4   Marginal_Adhesion            699 non-null    int64  \n",
      " 5   Single_Epithelial_Cell_Size  699 non-null    int64  \n",
      " 6   Bare_Nuclei                  683 non-null    float64\n",
      " 7   Bland_Chromatin              699 non-null    int64  \n",
      " 8   Normal_Nucleoli              699 non-null    int64  \n",
      " 9   Mitoses                      699 non-null    int64  \n",
      " 10  Class                        699 non-null    int64  \n",
      "dtypes: float64(1), int64(10)\n",
      "memory usage: 60.2 KB\n"
     ]
    },
    {
     "data": {
      "text/html": [
       "<div>\n",
       "<style scoped>\n",
       "    .dataframe tbody tr th:only-of-type {\n",
       "        vertical-align: middle;\n",
       "    }\n",
       "\n",
       "    .dataframe tbody tr th {\n",
       "        vertical-align: top;\n",
       "    }\n",
       "\n",
       "    .dataframe thead th {\n",
       "        text-align: right;\n",
       "    }\n",
       "</style>\n",
       "<table border=\"1\" class=\"dataframe\">\n",
       "  <thead>\n",
       "    <tr style=\"text-align: right;\">\n",
       "      <th></th>\n",
       "      <th>id</th>\n",
       "      <th>ClumpThickness</th>\n",
       "      <th>Uniformity_of_Cell_Size</th>\n",
       "      <th>Uniformity_of_Cell_Shape</th>\n",
       "      <th>Marginal_Adhesion</th>\n",
       "      <th>Single_Epithelial_Cell_Size</th>\n",
       "      <th>Bare_Nuclei</th>\n",
       "      <th>Bland_Chromatin</th>\n",
       "      <th>Normal_Nucleoli</th>\n",
       "      <th>Mitoses</th>\n",
       "      <th>Class</th>\n",
       "    </tr>\n",
       "  </thead>\n",
       "  <tbody>\n",
       "    <tr>\n",
       "      <th>0</th>\n",
       "      <td>1000025</td>\n",
       "      <td>5</td>\n",
       "      <td>1</td>\n",
       "      <td>1</td>\n",
       "      <td>1</td>\n",
       "      <td>2</td>\n",
       "      <td>1.0</td>\n",
       "      <td>3</td>\n",
       "      <td>1</td>\n",
       "      <td>1</td>\n",
       "      <td>2</td>\n",
       "    </tr>\n",
       "    <tr>\n",
       "      <th>1</th>\n",
       "      <td>1002945</td>\n",
       "      <td>5</td>\n",
       "      <td>4</td>\n",
       "      <td>4</td>\n",
       "      <td>5</td>\n",
       "      <td>7</td>\n",
       "      <td>10.0</td>\n",
       "      <td>3</td>\n",
       "      <td>2</td>\n",
       "      <td>1</td>\n",
       "      <td>2</td>\n",
       "    </tr>\n",
       "    <tr>\n",
       "      <th>2</th>\n",
       "      <td>1015425</td>\n",
       "      <td>3</td>\n",
       "      <td>1</td>\n",
       "      <td>1</td>\n",
       "      <td>1</td>\n",
       "      <td>2</td>\n",
       "      <td>2.0</td>\n",
       "      <td>3</td>\n",
       "      <td>1</td>\n",
       "      <td>1</td>\n",
       "      <td>2</td>\n",
       "    </tr>\n",
       "    <tr>\n",
       "      <th>3</th>\n",
       "      <td>1016277</td>\n",
       "      <td>6</td>\n",
       "      <td>8</td>\n",
       "      <td>8</td>\n",
       "      <td>1</td>\n",
       "      <td>3</td>\n",
       "      <td>4.0</td>\n",
       "      <td>3</td>\n",
       "      <td>7</td>\n",
       "      <td>1</td>\n",
       "      <td>2</td>\n",
       "    </tr>\n",
       "    <tr>\n",
       "      <th>4</th>\n",
       "      <td>1017023</td>\n",
       "      <td>4</td>\n",
       "      <td>1</td>\n",
       "      <td>1</td>\n",
       "      <td>3</td>\n",
       "      <td>2</td>\n",
       "      <td>1.0</td>\n",
       "      <td>3</td>\n",
       "      <td>1</td>\n",
       "      <td>1</td>\n",
       "      <td>2</td>\n",
       "    </tr>\n",
       "  </tbody>\n",
       "</table>\n",
       "</div>"
      ],
      "text/plain": [
       "        id  ClumpThickness  Uniformity_of_Cell_Size  Uniformity_of_Cell_Shape  \\\n",
       "0  1000025               5                        1                         1   \n",
       "1  1002945               5                        4                         4   \n",
       "2  1015425               3                        1                         1   \n",
       "3  1016277               6                        8                         8   \n",
       "4  1017023               4                        1                         1   \n",
       "\n",
       "   Marginal_Adhesion  Single_Epithelial_Cell_Size  Bare_Nuclei  \\\n",
       "0                  1                            2          1.0   \n",
       "1                  5                            7         10.0   \n",
       "2                  1                            2          2.0   \n",
       "3                  1                            3          4.0   \n",
       "4                  3                            2          1.0   \n",
       "\n",
       "   Bland_Chromatin  Normal_Nucleoli  Mitoses  Class  \n",
       "0                3                1        1      2  \n",
       "1                3                2        1      2  \n",
       "2                3                1        1      2  \n",
       "3                3                7        1      2  \n",
       "4                3                1        1      2  "
      ]
     },
     "execution_count": 3,
     "metadata": {},
     "output_type": "execute_result"
    }
   ],
   "source": [
    "df.info()\n",
    "df.head()"
   ]
  },
  {
   "cell_type": "code",
   "execution_count": 4,
   "id": "c9d2e25c",
   "metadata": {},
   "outputs": [
    {
     "data": {
      "text/plain": [
       "0      True\n",
       "1      True\n",
       "2      True\n",
       "3      True\n",
       "4      True\n",
       "       ... \n",
       "694    True\n",
       "695    True\n",
       "696    True\n",
       "697    True\n",
       "698    True\n",
       "Name: Uniformity_of_Cell_Size, Length: 699, dtype: bool"
      ]
     },
     "execution_count": 4,
     "metadata": {},
     "output_type": "execute_result"
    }
   ],
   "source": [
    "df.Uniformity_of_Cell_Size==df.Uniformity_of_Cell_Size"
   ]
  },
  {
   "cell_type": "code",
   "execution_count": 5,
   "id": "3706c1f8",
   "metadata": {},
   "outputs": [],
   "source": [
    "#Split Dataset\n",
    "\n",
    "Y=df.Class\n",
    "X=df.drop([\"id\",\"Class\",\"Uniformity_of_Cell_Shape\"],axis=1)\n",
    "\n",
    "X_training,X_test,Y_training,Y_test=train_test_split(X,Y,test_size=0.33)"
   ]
  },
  {
   "cell_type": "code",
   "execution_count": 6,
   "id": "ffe25ebe",
   "metadata": {},
   "outputs": [],
   "source": [
    "#Impute missing values\n",
    "\n",
    "from sklearn.impute import SimpleImputer\n",
    "\n",
    "simpleImpute=SimpleImputer()\n",
    "X_training=simpleImpute.fit_transform(X_training)\n",
    "X_test=simpleImpute.transform(X_test)"
   ]
  },
  {
   "cell_type": "code",
   "execution_count": 7,
   "id": "b5d65345",
   "metadata": {},
   "outputs": [],
   "source": [
    "#Standardization \n",
    "\n",
    "from sklearn.preprocessing import StandardScaler\n",
    "ss=StandardScaler()\n",
    "X_training_stand=ss.fit_transform(X_training)\n",
    "X_test_stand=ss.transform(X_test)"
   ]
  },
  {
   "cell_type": "markdown",
   "id": "20ebc8f0",
   "metadata": {},
   "source": [
    "# Decision Tree"
   ]
  },
  {
   "cell_type": "code",
   "execution_count": 8,
   "id": "0eca0aca",
   "metadata": {},
   "outputs": [],
   "source": [
    "# Decision Tree\n",
    "\n",
    "from sklearn.tree import DecisionTreeClassifier\n",
    "\n",
    "decisionTree=DecisionTreeClassifier()\n",
    "decisionTree.fit(X_training,Y_training)\n",
    "\n",
    "Y_test_pred=decisionTree.predict(X_test)"
   ]
  },
  {
   "cell_type": "code",
   "execution_count": 9,
   "id": "77f95894",
   "metadata": {},
   "outputs": [
    {
     "name": "stdout",
     "output_type": "stream",
     "text": [
      "0.948051948051948\n"
     ]
    }
   ],
   "source": [
    "# Accuracy Score\n",
    "\n",
    "from sklearn.metrics import accuracy_score\n",
    "\n",
    "print(accuracy_score(Y_test,Y_test_pred))"
   ]
  },
  {
   "cell_type": "code",
   "execution_count": 10,
   "id": "f4eeb162",
   "metadata": {},
   "outputs": [
    {
     "data": {
      "text/plain": [
       "'DecisionTree_Breast_Cancer.pdf'"
      ]
     },
     "execution_count": 10,
     "metadata": {},
     "output_type": "execute_result"
    }
   ],
   "source": [
    "# Drawing and Exporting the Decision Tree\n",
    "\n",
    "import graphviz \n",
    "from sklearn.tree import export_graphviz\n",
    "from sklearn import tree\n",
    "\n",
    "\n",
    "feature_names=[ \"ClumpThickness\", \"Uniformity_of_Cell_Size\", \"Marginal_Adhesion\" \n",
    "         ,\"Single_Epithelial_Cell_Size\" ,\"Bare_Nuclei\" ,\"Bland_Chromatin\" ,\"Normal_Nucleoli\", \"Mitoses\"]\n",
    "\n",
    "\n",
    "\n",
    "\n",
    "dot_data = tree.export_graphviz(decisionTree, out_file=None, \n",
    "                                feature_names = feature_names,class_names=['2','4'],\n",
    "                                filled=True, rounded=True,  \n",
    "                                special_characters=True)  \n",
    "graph = graphviz.Source(dot_data)  \n",
    "graph\n",
    "\n",
    "#This will create an iris.pdf file with the rule path\n",
    "\n",
    "graph.render(\"DecisionTree_Breast_Cancer\")"
   ]
  },
  {
   "cell_type": "markdown",
   "id": "cc8e11f8",
   "metadata": {},
   "source": [
    "# Random Forest"
   ]
  },
  {
   "cell_type": "code",
   "execution_count": 11,
   "id": "20613d6b",
   "metadata": {},
   "outputs": [
    {
     "name": "stdout",
     "output_type": "stream",
     "text": [
      "0.9696969696969697\n"
     ]
    },
    {
     "data": {
      "text/html": [
       "<div>\n",
       "<style scoped>\n",
       "    .dataframe tbody tr th:only-of-type {\n",
       "        vertical-align: middle;\n",
       "    }\n",
       "\n",
       "    .dataframe tbody tr th {\n",
       "        vertical-align: top;\n",
       "    }\n",
       "\n",
       "    .dataframe thead th {\n",
       "        text-align: right;\n",
       "    }\n",
       "</style>\n",
       "<table border=\"1\" class=\"dataframe\">\n",
       "  <thead>\n",
       "    <tr style=\"text-align: right;\">\n",
       "      <th></th>\n",
       "      <th>0</th>\n",
       "      <th>1</th>\n",
       "    </tr>\n",
       "  </thead>\n",
       "  <tbody>\n",
       "    <tr>\n",
       "      <th>0</th>\n",
       "      <td>143</td>\n",
       "      <td>5</td>\n",
       "    </tr>\n",
       "    <tr>\n",
       "      <th>1</th>\n",
       "      <td>2</td>\n",
       "      <td>81</td>\n",
       "    </tr>\n",
       "  </tbody>\n",
       "</table>\n",
       "</div>"
      ],
      "text/plain": [
       "     0   1\n",
       "0  143   5\n",
       "1    2  81"
      ]
     },
     "execution_count": 11,
     "metadata": {},
     "output_type": "execute_result"
    }
   ],
   "source": [
    "from sklearn.ensemble import RandomForestClassifier\n",
    "from sklearn.metrics import confusion_matrix\n",
    "\n",
    "randomForest=RandomForestClassifier()\n",
    "randomForest.fit(X_training,Y_training)\n",
    "y_pred=randomForest.predict(X_test)\n",
    "\n",
    "print(accuracy_score(Y_test,y_pred))\n",
    "pd.DataFrame(\n",
    "    confusion_matrix(Y_test, y_pred),\n",
    "    columns=['0', '1'],\n",
    "    index=['0', '1']\n",
    ")"
   ]
  },
  {
   "cell_type": "markdown",
   "id": "553b9331",
   "metadata": {},
   "source": [
    "# Gradient Boosting"
   ]
  },
  {
   "cell_type": "code",
   "execution_count": 12,
   "id": "d9b0f4fd",
   "metadata": {},
   "outputs": [
    {
     "name": "stdout",
     "output_type": "stream",
     "text": [
      "0.961038961038961\n"
     ]
    },
    {
     "data": {
      "text/html": [
       "<div>\n",
       "<style scoped>\n",
       "    .dataframe tbody tr th:only-of-type {\n",
       "        vertical-align: middle;\n",
       "    }\n",
       "\n",
       "    .dataframe tbody tr th {\n",
       "        vertical-align: top;\n",
       "    }\n",
       "\n",
       "    .dataframe thead th {\n",
       "        text-align: right;\n",
       "    }\n",
       "</style>\n",
       "<table border=\"1\" class=\"dataframe\">\n",
       "  <thead>\n",
       "    <tr style=\"text-align: right;\">\n",
       "      <th></th>\n",
       "      <th>0</th>\n",
       "      <th>1</th>\n",
       "    </tr>\n",
       "  </thead>\n",
       "  <tbody>\n",
       "    <tr>\n",
       "      <th>0</th>\n",
       "      <td>143</td>\n",
       "      <td>5</td>\n",
       "    </tr>\n",
       "    <tr>\n",
       "      <th>1</th>\n",
       "      <td>4</td>\n",
       "      <td>79</td>\n",
       "    </tr>\n",
       "  </tbody>\n",
       "</table>\n",
       "</div>"
      ],
      "text/plain": [
       "     0   1\n",
       "0  143   5\n",
       "1    4  79"
      ]
     },
     "execution_count": 12,
     "metadata": {},
     "output_type": "execute_result"
    }
   ],
   "source": [
    "from sklearn.ensemble import GradientBoostingClassifier\n",
    "\n",
    "gradientBoostingClassifier=GradientBoostingClassifier()\n",
    "gradientBoostingClassifier.fit(X_training,Y_training)\n",
    "\n",
    "Y_test_pred_GBoost=gradientBoostingClassifier.predict(X_test)\n",
    "print(accuracy_score(Y_test,Y_test_pred_GBoost))\n",
    "pd.DataFrame(\n",
    "    confusion_matrix(Y_test, Y_test_pred_GBoost),\n",
    "    columns=['0', '1'],\n",
    "    index=['0', '1']\n",
    ")"
   ]
  },
  {
   "cell_type": "markdown",
   "id": "e3f60e13",
   "metadata": {},
   "source": [
    "# Support Vector Machine (SVM)"
   ]
  },
  {
   "cell_type": "code",
   "execution_count": 13,
   "id": "9ab7eefb",
   "metadata": {},
   "outputs": [],
   "source": [
    "from sklearn.svm import  SVC\n",
    "\n",
    "#Standardizing\n",
    "from sklearn.preprocessing import StandardScaler\n",
    "\n",
    "ss=StandardScaler()\n",
    "X_training_stand=ss.fit_transform(X_training)\n",
    "X_test_stand=ss.transform(X_test)"
   ]
  },
  {
   "cell_type": "markdown",
   "id": "667f411a",
   "metadata": {},
   "source": [
    "Linear SVM"
   ]
  },
  {
   "cell_type": "code",
   "execution_count": 14,
   "id": "08bf2ec5",
   "metadata": {},
   "outputs": [
    {
     "name": "stdout",
     "output_type": "stream",
     "text": [
      "0.961038961038961\n"
     ]
    },
    {
     "data": {
      "text/html": [
       "<div>\n",
       "<style scoped>\n",
       "    .dataframe tbody tr th:only-of-type {\n",
       "        vertical-align: middle;\n",
       "    }\n",
       "\n",
       "    .dataframe tbody tr th {\n",
       "        vertical-align: top;\n",
       "    }\n",
       "\n",
       "    .dataframe thead th {\n",
       "        text-align: right;\n",
       "    }\n",
       "</style>\n",
       "<table border=\"1\" class=\"dataframe\">\n",
       "  <thead>\n",
       "    <tr style=\"text-align: right;\">\n",
       "      <th></th>\n",
       "      <th>0</th>\n",
       "      <th>1</th>\n",
       "    </tr>\n",
       "  </thead>\n",
       "  <tbody>\n",
       "    <tr>\n",
       "      <th>0</th>\n",
       "      <td>143</td>\n",
       "      <td>5</td>\n",
       "    </tr>\n",
       "    <tr>\n",
       "      <th>1</th>\n",
       "      <td>4</td>\n",
       "      <td>79</td>\n",
       "    </tr>\n",
       "  </tbody>\n",
       "</table>\n",
       "</div>"
      ],
      "text/plain": [
       "     0   1\n",
       "0  143   5\n",
       "1    4  79"
      ]
     },
     "execution_count": 14,
     "metadata": {},
     "output_type": "execute_result"
    }
   ],
   "source": [
    "svm=SVC(kernel=\"linear\")\n",
    "svm.fit(X_training_stand,Y_training)\n",
    "Y_test_pred_svm=svm.predict(X_test_stand)\n",
    "print(accuracy_score(Y_test,Y_test_pred_svm))\n",
    "\n",
    "pd.DataFrame(\n",
    "    confusion_matrix(Y_test, Y_test_pred_svm),\n",
    "    columns=['0', '1'],\n",
    "    index=['0', '1']\n",
    ")"
   ]
  },
  {
   "cell_type": "markdown",
   "id": "d83f1f7a",
   "metadata": {},
   "source": [
    "Non-Linear SVM"
   ]
  },
  {
   "cell_type": "code",
   "execution_count": 15,
   "id": "47801c68",
   "metadata": {},
   "outputs": [
    {
     "name": "stdout",
     "output_type": "stream",
     "text": [
      "0.9437229437229437\n"
     ]
    },
    {
     "data": {
      "text/html": [
       "<div>\n",
       "<style scoped>\n",
       "    .dataframe tbody tr th:only-of-type {\n",
       "        vertical-align: middle;\n",
       "    }\n",
       "\n",
       "    .dataframe tbody tr th {\n",
       "        vertical-align: top;\n",
       "    }\n",
       "\n",
       "    .dataframe thead th {\n",
       "        text-align: right;\n",
       "    }\n",
       "</style>\n",
       "<table border=\"1\" class=\"dataframe\">\n",
       "  <thead>\n",
       "    <tr style=\"text-align: right;\">\n",
       "      <th></th>\n",
       "      <th>0</th>\n",
       "      <th>1</th>\n",
       "    </tr>\n",
       "  </thead>\n",
       "  <tbody>\n",
       "    <tr>\n",
       "      <th>0</th>\n",
       "      <td>145</td>\n",
       "      <td>3</td>\n",
       "    </tr>\n",
       "    <tr>\n",
       "      <th>1</th>\n",
       "      <td>10</td>\n",
       "      <td>73</td>\n",
       "    </tr>\n",
       "  </tbody>\n",
       "</table>\n",
       "</div>"
      ],
      "text/plain": [
       "     0   1\n",
       "0  145   3\n",
       "1   10  73"
      ]
     },
     "execution_count": 15,
     "metadata": {},
     "output_type": "execute_result"
    }
   ],
   "source": [
    "# To perform a nonlinear svm we need a nonlinear kernel (e.g. polynomial kernel) \n",
    "\n",
    "svm_rbf=SVC(kernel=\"poly\")\n",
    "svm_rbf.fit(X_training_stand,Y_training)\n",
    "Y_test_pred_svm_rbf=svm_rbf.predict(X_test_stand)\n",
    "print(accuracy_score(Y_test,Y_test_pred_svm_rbf))\n",
    "\n",
    "pd.DataFrame(\n",
    "    confusion_matrix(Y_test, Y_test_pred_svm_rbf),\n",
    "    columns=['0', '1'],\n",
    "    index=['0', '1']\n",
    ")"
   ]
  },
  {
   "cell_type": "code",
   "execution_count": null,
   "id": "3a62c22f",
   "metadata": {},
   "outputs": [],
   "source": []
  }
 ],
 "metadata": {
  "kernelspec": {
   "display_name": "Python 3",
   "language": "python",
   "name": "python3"
  },
  "language_info": {
   "codemirror_mode": {
    "name": "ipython",
    "version": 3
   },
   "file_extension": ".py",
   "mimetype": "text/x-python",
   "name": "python",
   "nbconvert_exporter": "python",
   "pygments_lexer": "ipython3",
   "version": "3.8.8"
  }
 },
 "nbformat": 4,
 "nbformat_minor": 5
}
